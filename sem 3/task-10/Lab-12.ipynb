{
 "cells": [
  {
   "cell_type": "markdown",
   "id": "dd02a923",
   "metadata": {},
   "source": [
    "# AI LAB 11\n",
    "### Name: Rasikh Ali\n",
    "### Rollnumber: BSEM-F19-060"
   ]
  },
  {
   "cell_type": "markdown",
   "id": "4e3900e4",
   "metadata": {},
   "source": [
    "<div class=\"alert alert-block alert-info\">\n",
    "    Using <b>Python </b> v3.8.18\n",
    "    <br>\n",
    "    with <b>Jupyter </b> v7.4.9\n",
    "</div>"
   ]
  },
  {
   "cell_type": "markdown",
   "id": "4a9368ce",
   "metadata": {},
   "source": [
    "# Libraries"
   ]
  },
  {
   "cell_type": "code",
   "execution_count": 57,
   "id": "1430f631",
   "metadata": {},
   "outputs": [],
   "source": [
    "import pandas as pd\n",
    "import numpy as np\n",
    "import pickle\n",
    "\n",
    "from sklearn.svm import SVC, SVR\n",
    "from sklearn.metrics import accuracy_score, mean_squared_error, r2_score, root_mean_squared_error, mean_absolute_error\n",
    "from sklearn.preprocessing import LabelEncoder\n",
    "from sklearn.model_selection import train_test_split"
   ]
  },
  {
   "cell_type": "markdown",
   "id": "c98d3aec",
   "metadata": {},
   "source": [
    "# Data reading / loading"
   ]
  },
  {
   "cell_type": "code",
   "execution_count": null,
   "id": "bf20352c",
   "metadata": {},
   "outputs": [],
   "source": [
    "df = pd.read_csv(\"data.csv\")\n",
    "df"
   ]
  },
  {
   "cell_type": "code",
   "execution_count": null,
   "id": "43a2e9d8",
   "metadata": {},
   "outputs": [],
   "source": [
    "print(df)"
   ]
  },
  {
   "cell_type": "code",
   "execution_count": null,
   "id": "60166b37",
   "metadata": {},
   "outputs": [],
   "source": [
    "pd.set_option(\"display.max_rows\", None, \"display.max_columns\", None)\n",
    "df"
   ]
  },
  {
   "cell_type": "markdown",
   "id": "b8ca0472",
   "metadata": {},
   "source": [
    "# Data Exploration"
   ]
  },
  {
   "cell_type": "code",
   "execution_count": null,
   "id": "995709a2",
   "metadata": {},
   "outputs": [],
   "source": [
    "# Data View\n",
    "df.head()\n",
    "df.head(2)"
   ]
  },
  {
   "cell_type": "code",
   "execution_count": null,
   "id": "88d090c9",
   "metadata": {},
   "outputs": [],
   "source": [
    "df.tail()\n",
    "df.tail(2)"
   ]
  },
  {
   "cell_type": "code",
   "execution_count": null,
   "id": "fc0ffa5a",
   "metadata": {},
   "outputs": [],
   "source": [
    "print(f\"Number of rows {df.shape[0]}, Number of columns {df.shape[1]}\")\n",
    "print(df.shape)"
   ]
  },
  {
   "cell_type": "code",
   "execution_count": null,
   "id": "1bd37a79",
   "metadata": {},
   "outputs": [],
   "source": [
    "print(\"-- Attributes in Data --\")\n",
    "for cols in df.columns:\n",
    "    print(cols)"
   ]
  },
  {
   "cell_type": "code",
   "execution_count": null,
   "id": "2753e349",
   "metadata": {},
   "outputs": [],
   "source": [
    "print(\"-- Number of instances in Data --\")\n",
    "print(df.count())"
   ]
  },
  {
   "cell_type": "code",
   "execution_count": null,
   "id": "ef49a516",
   "metadata": {},
   "outputs": [],
   "source": [
    "df['city'].unique()"
   ]
  },
  {
   "cell_type": "code",
   "execution_count": null,
   "id": "4d053079",
   "metadata": {},
   "outputs": [],
   "source": [
    "print(\"-- Number of Unique Values in Data --\")\n",
    "print(df.nunique())"
   ]
  },
  {
   "cell_type": "code",
   "execution_count": null,
   "id": "ffa7ac91",
   "metadata": {},
   "outputs": [],
   "source": [
    "print(\"-- Number of Null Values in Data --\")\n",
    "print(df.isnull().sum())"
   ]
  },
  {
   "cell_type": "code",
   "execution_count": null,
   "id": "6079fa2d",
   "metadata": {},
   "outputs": [],
   "source": [
    "print(\"-- Details of Data --\")\n",
    "df.describe()"
   ]
  },
  {
   "cell_type": "code",
   "execution_count": null,
   "id": "04e9a98b",
   "metadata": {},
   "outputs": [],
   "source": [
    "print(\"-- Insights of Data --\")\n",
    "df.info()"
   ]
  },
  {
   "cell_type": "markdown",
   "id": "2cb18a35",
   "metadata": {},
   "source": [
    "# Data Pre-Processing"
   ]
  },
  {
   "cell_type": "markdown",
   "id": "9a2dfdeb",
   "metadata": {},
   "source": [
    "### Manage Null-Values"
   ]
  },
  {
   "cell_type": "code",
   "execution_count": null,
   "id": "07c6bbcd",
   "metadata": {},
   "outputs": [],
   "source": [
    "print(\"-- Number of Null Values in Data --\")\n",
    "print(df.isnull().sum())"
   ]
  },
  {
   "cell_type": "code",
   "execution_count": null,
   "id": "4a34316a",
   "metadata": {},
   "outputs": [],
   "source": [
    "print(\"-- Number of Null Values in Data --\")\n",
    "print(df['street'].isnull().sum())"
   ]
  },
  {
   "cell_type": "code",
   "execution_count": null,
   "id": "aaa01e84",
   "metadata": {},
   "outputs": [],
   "source": [
    "# For Object/String Types\n",
    "df['street']   = df['street'].fillna(df['street'].mode()[0])\n",
    "df['city']     = df['city'].fillna(df['city'].mode()[0])\n",
    "df['statezip'] = df['statezip'].fillna(df['statezip'].mode()[0])\n",
    "df['country']  = df['country'].fillna(df['country'].mode()[0])"
   ]
  },
  {
   "cell_type": "code",
   "execution_count": null,
   "id": "6dbcf70a",
   "metadata": {},
   "outputs": [],
   "source": [
    "def fillNaObjMode(col):\n",
    "    for i in col:\n",
    "        df[i] = df[i].fillna(df[i].mode()[0])\n",
    "\n",
    "columns = ['street', 'city', 'statezip', 'country']\n",
    "fillNaObjMode(columns)"
   ]
  },
  {
   "cell_type": "code",
   "execution_count": null,
   "id": "457219d9",
   "metadata": {},
   "outputs": [],
   "source": [
    "def fillNaMean(col):\n",
    "    for i in col:\n",
    "        df[i] = df[i].fillna(df[i].mean())\n",
    "\n",
    "columns = ['price','sqft_living','sqft_lot','sqft_above','sqft_basement']\n",
    "fillNaMean(columns)"
   ]
  },
  {
   "cell_type": "code",
   "execution_count": null,
   "id": "dc2eb3b3",
   "metadata": {},
   "outputs": [],
   "source": [
    "def fillNaMode(col):\n",
    "    for i in col:\n",
    "        df[i] = df[i].fillna(df[i].mode()[0])\n",
    "\n",
    "columns = ['bedrooms','bathrooms','floors','waterfront','view','yr_built']\n",
    "fillNaMode(columns)"
   ]
  },
  {
   "cell_type": "code",
   "execution_count": null,
   "id": "2682ef64",
   "metadata": {},
   "outputs": [],
   "source": [
    "df.drop('date', axis=1, inplace=True)\n",
    "df.drop('street', axis=1, inplace=True)"
   ]
  },
  {
   "cell_type": "code",
   "execution_count": null,
   "id": "a3981a77",
   "metadata": {},
   "outputs": [],
   "source": [
    "df.head(2)"
   ]
  },
  {
   "cell_type": "code",
   "execution_count": null,
   "id": "93a39c97",
   "metadata": {},
   "outputs": [],
   "source": [
    "print(df.isnull().sum())"
   ]
  },
  {
   "cell_type": "code",
   "execution_count": null,
   "id": "4dcc4038",
   "metadata": {},
   "outputs": [],
   "source": [
    "df['price'] = df['price'].astype('int64')\n",
    "def changetoint64(col):\n",
    "    for i in col:\n",
    "        df[i] = df[i].astype('int64')\n",
    "        \n",
    "columns =[\n",
    "    'price','bedrooms','bathrooms','sqft_living','sqft_lot',\n",
    "    'floors','waterfront','view','sqft_above','sqft_basement',\n",
    "    'yr_built']\n",
    "changetoint64(columns)"
   ]
  },
  {
   "cell_type": "code",
   "execution_count": null,
   "id": "2741ece4",
   "metadata": {},
   "outputs": [],
   "source": [
    "print(\"-- Insights of Data --\")\n",
    "df.info()"
   ]
  },
  {
   "cell_type": "code",
   "execution_count": null,
   "id": "34878bf6",
   "metadata": {},
   "outputs": [],
   "source": [
    "def fillNaObjMode(col):\n",
    "    for i in col:\n",
    "        df[i] = df[i].fillna(df[i].mode()[0])\n",
    "\n",
    "columns = ['city', 'statezip', 'country']\n",
    "fillNaObjMode(columns)"
   ]
  },
  {
   "cell_type": "code",
   "execution_count": null,
   "id": "4d327007",
   "metadata": {},
   "outputs": [],
   "source": [
    "df['city'].unique()"
   ]
  },
  {
   "cell_type": "code",
   "execution_count": null,
   "id": "ed35fad7",
   "metadata": {},
   "outputs": [],
   "source": [
    "df['statezip'].unique()"
   ]
  },
  {
   "cell_type": "code",
   "execution_count": null,
   "id": "d97eed8b",
   "metadata": {},
   "outputs": [],
   "source": [
    "df['country'].unique()"
   ]
  },
  {
   "cell_type": "code",
   "execution_count": null,
   "id": "118f4fab",
   "metadata": {},
   "outputs": [],
   "source": [
    "df_encoded = df.copy()"
   ]
  },
  {
   "cell_type": "code",
   "execution_count": null,
   "id": "ec561d75",
   "metadata": {},
   "outputs": [],
   "source": [
    "def encodeCols(cols):\n",
    "    for i in cols:\n",
    "        data = pd.DataFrame({i:df[i].unique()})\n",
    "        data_label_encoder = LabelEncoder()\n",
    "        data_label_encoder.fit(np.ravel(data))\n",
    "        df_encoded[i] = data_label_encoder.transform(df[i]) \n",
    "\n",
    "columns = ['city','statezip','country']\n",
    "encodeCols(columns)"
   ]
  },
  {
   "cell_type": "code",
   "execution_count": null,
   "id": "1f765978",
   "metadata": {},
   "outputs": [],
   "source": [
    "# Labels\n",
    "country = pd.DataFrame({'country':df['country'].unique()})\n",
    "\n",
    "# Initializing Label Encoders\n",
    "country_label_encoder = LabelEncoder()\n",
    "\n",
    "# Training Label Encoder\n",
    "country_label_encoder.fit(np.ravel(country))"
   ]
  },
  {
   "cell_type": "code",
   "execution_count": null,
   "id": "ca077aa2",
   "metadata": {},
   "outputs": [],
   "source": [
    "df_encoded['country'] = country_label_encoder.transform(df['country']) "
   ]
  },
  {
   "cell_type": "code",
   "execution_count": null,
   "id": "aeac9a97",
   "metadata": {
    "scrolled": true
   },
   "outputs": [],
   "source": [
    "# All the Attributes are Numerical \n",
    "df_encoded.info()"
   ]
  },
  {
   "cell_type": "code",
   "execution_count": null,
   "id": "d134b56a",
   "metadata": {},
   "outputs": [],
   "source": [
    "df_encoded.to_csv(r'encoded-data.csv', index = False, header = True)"
   ]
  },
  {
   "cell_type": "markdown",
   "id": "39d0afbb",
   "metadata": {},
   "source": [
    "# BREAK 3:10"
   ]
  },
  {
   "cell_type": "markdown",
   "id": "2189a213",
   "metadata": {},
   "source": [
    "# Train-Test Splitting"
   ]
  },
  {
   "cell_type": "code",
   "execution_count": null,
   "id": "47b6a06f",
   "metadata": {},
   "outputs": [],
   "source": [
    "traindata, testdata = train_test_split(df_encoded, test_size=0.2, shuffle=False)"
   ]
  },
  {
   "cell_type": "code",
   "execution_count": null,
   "id": "8aec971f",
   "metadata": {},
   "outputs": [],
   "source": [
    "traindata.head(2)"
   ]
  },
  {
   "cell_type": "code",
   "execution_count": null,
   "id": "80716cf5",
   "metadata": {},
   "outputs": [],
   "source": [
    "testdata.head(2)"
   ]
  },
  {
   "cell_type": "code",
   "execution_count": null,
   "id": "f94d3cb4",
   "metadata": {},
   "outputs": [],
   "source": [
    "X = df_encoded.drop('price', axis=1)\n",
    "y = df_encoded['price']"
   ]
  },
  {
   "cell_type": "code",
   "execution_count": null,
   "id": "6f2c43bc",
   "metadata": {},
   "outputs": [],
   "source": [
    "train_x = traindata.iloc[:, 1:]\n",
    "train_x.head()"
   ]
  },
  {
   "cell_type": "code",
   "execution_count": null,
   "id": "8a8535ab",
   "metadata": {},
   "outputs": [],
   "source": [
    "train_y = traindata.iloc[:, 0]\n",
    "train_y.head()"
   ]
  },
  {
   "cell_type": "code",
   "execution_count": null,
   "id": "3662e0b8",
   "metadata": {},
   "outputs": [],
   "source": [
    "test_x = testdata.iloc[:, 1:]\n",
    "test_x.head()"
   ]
  },
  {
   "cell_type": "code",
   "execution_count": null,
   "id": "7ce38c77",
   "metadata": {},
   "outputs": [],
   "source": [
    "test_y = testdata.iloc[:, 0]\n",
    "test_y.head()"
   ]
  },
  {
   "cell_type": "markdown",
   "id": "60aac1e0",
   "metadata": {},
   "source": [
    "# Training Model Using Support Vector Classifier"
   ]
  },
  {
   "cell_type": "code",
   "execution_count": null,
   "id": "96e53621",
   "metadata": {},
   "outputs": [],
   "source": [
    "print(\"-- Training using SVC on Training Data --\")\n",
    "print(\"-- Parameters & Values: \", end='')\n",
    "\n",
    "model_svr = SVR(gamma='auto')\n",
    "model_svr.fit(train_x, np.ravel(train_y))\n",
    "\n",
    "print(model_svr)"
   ]
  },
  {
   "cell_type": "code",
   "execution_count": null,
   "id": "6c38066a",
   "metadata": {},
   "outputs": [],
   "source": [
    "# Saving Trained Model\n",
    "pickle.dump(model_svr, open('model_svc.pkl', 'wb'))"
   ]
  },
  {
   "cell_type": "code",
   "execution_count": null,
   "id": "701ce53a",
   "metadata": {},
   "outputs": [],
   "source": [
    "# Load saved Model\n",
    "model = pickle.load(open('model_svc.pkl', 'rb'))"
   ]
  },
  {
   "cell_type": "code",
   "execution_count": null,
   "id": "03b6e77b",
   "metadata": {},
   "outputs": [],
   "source": [
    "model_predictions = model.predict(test_x)\n",
    "\n",
    "testdata_predict = testdata.copy(deep=True)\n",
    "pd.options.mode.chained_assignment = None\n",
    "\n",
    "testdata_predict['Prediction'] = model_predictions"
   ]
  },
  {
   "cell_type": "code",
   "execution_count": null,
   "id": "1ffc5398",
   "metadata": {},
   "outputs": [],
   "source": [
    "# Printing Testing Data\n",
    "print(\"-- Testing Data with Prediction --\")\n",
    "# pd.set_option(\"display.max_rows\", None, \"display.max_columns\", None)\n",
    "testdata_predict"
   ]
  },
  {
   "cell_type": "code",
   "execution_count": 58,
   "id": "d32925bc",
   "metadata": {},
   "outputs": [
    {
     "name": "stdout",
     "output_type": "stream",
     "text": [
      "-- mean squared error: 1063101319147.0159\n"
     ]
    }
   ],
   "source": [
    "mse = mean_squared_error(testdata_predict['price'], testdata_predict['Prediction'])\n",
    "\n",
    "print(\"-- mean squared error: \", end='')\n",
    "print(mse)"
   ]
  },
  {
   "cell_type": "code",
   "execution_count": 59,
   "id": "ba320794",
   "metadata": {},
   "outputs": [
    {
     "name": "stdout",
     "output_type": "stream",
     "text": [
      "-- root mean squared error: 1031068.0477771658\n"
     ]
    }
   ],
   "source": [
    "rmse = root_mean_squared_error(testdata_predict['price'], testdata_predict['Prediction'])\n",
    "print(\"-- root mean squared error: \", end='')\n",
    "print(rmse)"
   ]
  },
  {
   "cell_type": "code",
   "execution_count": 60,
   "id": "6b4ee0b8",
   "metadata": {},
   "outputs": [
    {
     "name": "stdout",
     "output_type": "stream",
     "text": [
      "-- mean absolute error: 291937.8900661286\n"
     ]
    }
   ],
   "source": [
    "mae = mean_absolute_error(testdata_predict['price'], testdata_predict['Prediction'])\n",
    "print(\"-- mean absolute error: \", end='')\n",
    "print(mae)"
   ]
  }
 ],
 "metadata": {
  "kernelspec": {
   "display_name": "Python 3",
   "language": "python",
   "name": "python3"
  },
  "language_info": {
   "codemirror_mode": {
    "name": "ipython",
    "version": 3
   },
   "file_extension": ".py",
   "mimetype": "text/x-python",
   "name": "python",
   "nbconvert_exporter": "python",
   "pygments_lexer": "ipython3",
   "version": "3.12.8"
  }
 },
 "nbformat": 4,
 "nbformat_minor": 5
}
