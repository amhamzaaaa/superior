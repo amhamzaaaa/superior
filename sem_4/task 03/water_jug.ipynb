{
 "cells": [
  {
   "cell_type": "code",
   "execution_count": 3,
   "metadata": {},
   "outputs": [
    {
     "data": {
      "text/plain": [
       "[(0, 0), (0, 3), (3, 0), (3, 3), (4, 2)]"
      ]
     },
     "execution_count": 3,
     "metadata": {},
     "output_type": "execute_result"
    }
   ],
   "source": [
    "class WaterJugProblem:\n",
    "    def __init__(self, capacity_x, capacity_y, target):\n",
    "        self.cap_x = capacity_x\n",
    "        self.cap_y = capacity_y\n",
    "        self.tar = target\n",
    "        self.stack = []\n",
    "        self.visited = []\n",
    "        self.path = []\n",
    "\n",
    "    def find(self):\n",
    "        self.stack.append((0,0))\n",
    "\n",
    "        while self.stack:\n",
    "            x, y = self.stack.pop()\n",
    "\n",
    "            if (x, y) in self.visited:  \n",
    "                continue\n",
    "\n",
    "            self.visited.append((x, y))  \n",
    "            self.path.append((x, y))  \n",
    "\n",
    "            if x == self.tar or y == self.tar: \n",
    "                return self.path\n",
    "\n",
    "           \n",
    "            self.stack.append((self.cap_x, y))\n",
    "            self.stack.append((x, self.cap_y))\n",
    "            self.stack.append((0, y))\n",
    "            self.stack.append((x, 0))\n",
    "\n",
    "            new_x = max(0, x - (self.cap_y - y))\n",
    "            new_y = min(self.cap_y, y + x)  \n",
    "            self.stack.append((new_x, new_y))\n",
    "\n",
    "            new_x = min(self.cap_x, x + y) \n",
    "            new_y = max(0, y - (self.cap_x - x))  \n",
    "            self.stack.append((new_x, new_y))\n",
    "\n",
    "        return None \n",
    "\n",
    "\n",
    "capacity_x = 4  \n",
    "capacity_y = 3 \n",
    "target = 2 \n",
    "\n",
    "solution = WaterJugProblem(capacity_x, capacity_y, target)\n",
    "solution.find()"
   ]
  }
 ],
 "metadata": {
  "kernelspec": {
   "display_name": "Python 3",
   "language": "python",
   "name": "python3"
  },
  "language_info": {
   "codemirror_mode": {
    "name": "ipython",
    "version": 3
   },
   "file_extension": ".py",
   "mimetype": "text/x-python",
   "name": "python",
   "nbconvert_exporter": "python",
   "pygments_lexer": "ipython3",
   "version": "3.12.9"
  }
 },
 "nbformat": 4,
 "nbformat_minor": 2
}
