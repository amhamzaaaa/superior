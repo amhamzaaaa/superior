{
 "cells": [
  {
   "cell_type": "code",
   "execution_count": 21,
   "metadata": {},
   "outputs": [
    {
     "name": "stdout",
     "output_type": "stream",
     "text": [
      ". Q . .\n",
      ". . . Q\n",
      "Q . . .\n",
      ". . Q .\n",
      "\n",
      ". . Q .\n",
      "Q . . .\n",
      ". . . Q\n",
      ". Q . .\n",
      "\n"
     ]
    }
   ],
   "source": [
    "class NQueen:\n",
    "    def __init__(self, n):\n",
    "        self.n = n\n",
    "        self.board = [[\".\"] * n for _ in range(n)]\n",
    "        self.solutions = []\n",
    "   \n",
    "\n",
    "    def is_safe(self, board, row, col, n):\n",
    "\n",
    "        for i in range(row):\n",
    "            if self.board[i][col] == \"Q\":\n",
    "                return False\n",
    "\n",
    "        i, j = row, col\n",
    "        while i >= 0 and j >= 0:\n",
    "            if self.board[i][j] == \"Q\":\n",
    "                return False\n",
    "            i -= 1\n",
    "            j -= 1\n",
    "\n",
    "        i, j = row, col\n",
    "        while i >= 0 and j < n:\n",
    "            if self.board[i][j] == \"Q\":\n",
    "                return False\n",
    "            i -= 1\n",
    "            j += 1\n",
    "\n",
    "        return True  \n",
    "\n",
    "\n",
    "    def solve(self):\n",
    "        board = self.board\n",
    "        row = 0\n",
    "        n = self.n\n",
    "        solutions = self.solutions\n",
    "        if row == self.n:  \n",
    "            self.solutions.append([\" \".join(r) for r in board])\n",
    "            return\n",
    "\n",
    "        for col in range(n):  \n",
    "            if is_safe(board, row, col, n):  \n",
    "                self.board[row][col] = \"Q\"  \n",
    "                solve(board, row + 1, n, solutions)  \n",
    "                self.board[row][col] = \".\" \n",
    "\n",
    "        for sol in self.solutions:\n",
    "            for row in sol:\n",
    "                print(row)\n",
    "            print() \n",
    "\n",
    "Game = NQueen(4)\n",
    "Game.solve()\n"
   ]
  }
 ],
 "metadata": {
  "kernelspec": {
   "display_name": "Python 3",
   "language": "python",
   "name": "python3"
  },
  "language_info": {
   "codemirror_mode": {
    "name": "ipython",
    "version": 3
   },
   "file_extension": ".py",
   "mimetype": "text/x-python",
   "name": "python",
   "nbconvert_exporter": "python",
   "pygments_lexer": "ipython3",
   "version": "3.12.9"
  }
 },
 "nbformat": 4,
 "nbformat_minor": 2
}
